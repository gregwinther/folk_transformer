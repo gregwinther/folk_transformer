{
 "metadata": {
  "language_info": {
   "codemirror_mode": {
    "name": "ipython",
    "version": 3
   },
   "file_extension": ".py",
   "mimetype": "text/x-python",
   "name": "python",
   "nbconvert_exporter": "python",
   "pygments_lexer": "ipython3",
   "version": "3.6.11-final"
  },
  "orig_nbformat": 2,
  "kernelspec": {
   "name": "python3",
   "display_name": "Python 3"
  }
 },
 "nbformat": 4,
 "nbformat_minor": 2,
 "cells": [
  {
   "source": [
    "Figure from evaluation"
   ],
   "cell_type": "markdown",
   "metadata": {}
  },
  {
   "cell_type": "code",
   "execution_count": 42,
   "metadata": {},
   "outputs": [],
   "source": [
    "import pandas as pd\n",
    "import matplotlib.pyplot as plt \n",
    "import seaborn as sns"
   ]
  },
  {
   "cell_type": "code",
   "execution_count": 18,
   "metadata": {},
   "outputs": [],
   "source": [
    "songs = [f\"song{i}\" for i in range(1,6)]\n",
    "rates = [f\"best{i}\" for i in range(1,6)]\n",
    "colnames = [\" \"]\n",
    "for i,j in zip(songs, rates):\n",
    "    colnames.append(i)\n",
    "    colnames.append(j)\n",
    "colnames.append(\"comments\")"
   ]
  },
  {
   "cell_type": "code",
   "execution_count": 22,
   "metadata": {},
   "outputs": [
    {
     "output_type": "execute_result",
     "data": {
      "text/plain": [
       "                                               song1  best1  \\\n",
       "0  Transfer Americana 1: https://gregwinther.gith...      2   \n",
       "1  Transfer Americana 1: https://gregwinther.gith...      4   \n",
       "2  Americana 1: https://gregwinther.github.io/fol...      1   \n",
       "3  Transfer Americana 1: https://gregwinther.gith...      5   \n",
       "4  Transfer Americana 1: https://gregwinther.gith...      2   \n",
       "5  Americana 1: https://gregwinther.github.io/fol...      2   \n",
       "6  Americana 1: https://gregwinther.github.io/fol...      3   \n",
       "7  Americana 1: https://gregwinther.github.io/fol...      3   \n",
       "8  Transfer Americana 1: https://gregwinther.gith...      2   \n",
       "9  Transfer Americana 1: https://gregwinther.gith...      3   \n",
       "\n",
       "                                               song2  best2  \\\n",
       "0  Americana 1: https://gregwinther.github.io/fol...      4   \n",
       "1  Americana 1: https://gregwinther.github.io/fol...      3   \n",
       "2  Americana 1: https://gregwinther.github.io/fol...      1   \n",
       "3  Transfer Americana 1: https://gregwinther.gith...      2   \n",
       "4  Transfer Americana 1: https://gregwinther.gith...      3   \n",
       "5  Transfer Americana 1: https://gregwinther.gith...      3   \n",
       "6  Transfer Americana 1: https://gregwinther.gith...      3   \n",
       "7  Transfer Americana 1: https://gregwinther.gith...      2   \n",
       "8  Transfer Americana 1: https://gregwinther.gith...      3   \n",
       "9  Americana 1: https://gregwinther.github.io/fol...      3   \n",
       "\n",
       "                                               song3  best3  \\\n",
       "0  Americana 1: https://gregwinther.github.io/fol...      2   \n",
       "1  Transfer Americana 1: https://gregwinther.gith...      3   \n",
       "2  Transfer Americana 1: https://gregwinther.gith...      2   \n",
       "3  Transfer Americana 1: https://gregwinther.gith...      5   \n",
       "4  Transfer Americana 1: https://gregwinther.gith...      3   \n",
       "5  Transfer Americana 1: https://gregwinther.gith...      2   \n",
       "6  Transfer Americana 1: https://gregwinther.gith...      3   \n",
       "7  Transfer Americana 1: https://gregwinther.gith...      2   \n",
       "8  Transfer Americana 1: https://gregwinther.gith...      3   \n",
       "9  Transfer Americana 1: https://gregwinther.gith...      2   \n",
       "\n",
       "                                               song4  best4  \\\n",
       "0  Transfer Americana 1: https://gregwinther.gith...      3   \n",
       "1  Transfer Americana 1: https://gregwinther.gith...      2   \n",
       "2  Americana 1: https://gregwinther.github.io/fol...      1   \n",
       "3  Transfer Americana 1: https://gregwinther.gith...      3   \n",
       "4  Transfer Americana 1: https://gregwinther.gith...      2   \n",
       "5  Americana 1: https://gregwinther.github.io/fol...      2   \n",
       "6  Transfer Americana 1: https://gregwinther.gith...      3   \n",
       "7  Transfer Americana 1: https://gregwinther.gith...      2   \n",
       "8  Transfer Americana 1: https://gregwinther.gith...      2   \n",
       "9  Transfer Americana 1: https://gregwinther.gith...      3   \n",
       "\n",
       "                                               song5  best5  \n",
       "0  Americana 1: https://gregwinther.github.io/fol...      2  \n",
       "1  Americana 1: https://gregwinther.github.io/fol...      1  \n",
       "2  Americana 1: https://gregwinther.github.io/fol...      1  \n",
       "3  Americana 1: https://gregwinther.github.io/fol...      2  \n",
       "4  Transfer Americana 1: https://gregwinther.gith...      3  \n",
       "5  Transfer Americana 1: https://gregwinther.gith...      2  \n",
       "6  Americana 1: https://gregwinther.github.io/fol...      3  \n",
       "7  Transfer Americana 1: https://gregwinther.gith...      2  \n",
       "8  Transfer Americana 1: https://gregwinther.gith...      2  \n",
       "9  Transfer Americana 1: https://gregwinther.gith...      3  "
      ],
      "text/html": "<div>\n<style scoped>\n    .dataframe tbody tr th:only-of-type {\n        vertical-align: middle;\n    }\n\n    .dataframe tbody tr th {\n        vertical-align: top;\n    }\n\n    .dataframe thead th {\n        text-align: right;\n    }\n</style>\n<table border=\"1\" class=\"dataframe\">\n  <thead>\n    <tr style=\"text-align: right;\">\n      <th></th>\n      <th>song1</th>\n      <th>best1</th>\n      <th>song2</th>\n      <th>best2</th>\n      <th>song3</th>\n      <th>best3</th>\n      <th>song4</th>\n      <th>best4</th>\n      <th>song5</th>\n      <th>best5</th>\n    </tr>\n  </thead>\n  <tbody>\n    <tr>\n      <th>0</th>\n      <td>Transfer Americana 1: https://gregwinther.gith...</td>\n      <td>2</td>\n      <td>Americana 1: https://gregwinther.github.io/fol...</td>\n      <td>4</td>\n      <td>Americana 1: https://gregwinther.github.io/fol...</td>\n      <td>2</td>\n      <td>Transfer Americana 1: https://gregwinther.gith...</td>\n      <td>3</td>\n      <td>Americana 1: https://gregwinther.github.io/fol...</td>\n      <td>2</td>\n    </tr>\n    <tr>\n      <th>1</th>\n      <td>Transfer Americana 1: https://gregwinther.gith...</td>\n      <td>4</td>\n      <td>Americana 1: https://gregwinther.github.io/fol...</td>\n      <td>3</td>\n      <td>Transfer Americana 1: https://gregwinther.gith...</td>\n      <td>3</td>\n      <td>Transfer Americana 1: https://gregwinther.gith...</td>\n      <td>2</td>\n      <td>Americana 1: https://gregwinther.github.io/fol...</td>\n      <td>1</td>\n    </tr>\n    <tr>\n      <th>2</th>\n      <td>Americana 1: https://gregwinther.github.io/fol...</td>\n      <td>1</td>\n      <td>Americana 1: https://gregwinther.github.io/fol...</td>\n      <td>1</td>\n      <td>Transfer Americana 1: https://gregwinther.gith...</td>\n      <td>2</td>\n      <td>Americana 1: https://gregwinther.github.io/fol...</td>\n      <td>1</td>\n      <td>Americana 1: https://gregwinther.github.io/fol...</td>\n      <td>1</td>\n    </tr>\n    <tr>\n      <th>3</th>\n      <td>Transfer Americana 1: https://gregwinther.gith...</td>\n      <td>5</td>\n      <td>Transfer Americana 1: https://gregwinther.gith...</td>\n      <td>2</td>\n      <td>Transfer Americana 1: https://gregwinther.gith...</td>\n      <td>5</td>\n      <td>Transfer Americana 1: https://gregwinther.gith...</td>\n      <td>3</td>\n      <td>Americana 1: https://gregwinther.github.io/fol...</td>\n      <td>2</td>\n    </tr>\n    <tr>\n      <th>4</th>\n      <td>Transfer Americana 1: https://gregwinther.gith...</td>\n      <td>2</td>\n      <td>Transfer Americana 1: https://gregwinther.gith...</td>\n      <td>3</td>\n      <td>Transfer Americana 1: https://gregwinther.gith...</td>\n      <td>3</td>\n      <td>Transfer Americana 1: https://gregwinther.gith...</td>\n      <td>2</td>\n      <td>Transfer Americana 1: https://gregwinther.gith...</td>\n      <td>3</td>\n    </tr>\n    <tr>\n      <th>5</th>\n      <td>Americana 1: https://gregwinther.github.io/fol...</td>\n      <td>2</td>\n      <td>Transfer Americana 1: https://gregwinther.gith...</td>\n      <td>3</td>\n      <td>Transfer Americana 1: https://gregwinther.gith...</td>\n      <td>2</td>\n      <td>Americana 1: https://gregwinther.github.io/fol...</td>\n      <td>2</td>\n      <td>Transfer Americana 1: https://gregwinther.gith...</td>\n      <td>2</td>\n    </tr>\n    <tr>\n      <th>6</th>\n      <td>Americana 1: https://gregwinther.github.io/fol...</td>\n      <td>3</td>\n      <td>Transfer Americana 1: https://gregwinther.gith...</td>\n      <td>3</td>\n      <td>Transfer Americana 1: https://gregwinther.gith...</td>\n      <td>3</td>\n      <td>Transfer Americana 1: https://gregwinther.gith...</td>\n      <td>3</td>\n      <td>Americana 1: https://gregwinther.github.io/fol...</td>\n      <td>3</td>\n    </tr>\n    <tr>\n      <th>7</th>\n      <td>Americana 1: https://gregwinther.github.io/fol...</td>\n      <td>3</td>\n      <td>Transfer Americana 1: https://gregwinther.gith...</td>\n      <td>2</td>\n      <td>Transfer Americana 1: https://gregwinther.gith...</td>\n      <td>2</td>\n      <td>Transfer Americana 1: https://gregwinther.gith...</td>\n      <td>2</td>\n      <td>Transfer Americana 1: https://gregwinther.gith...</td>\n      <td>2</td>\n    </tr>\n    <tr>\n      <th>8</th>\n      <td>Transfer Americana 1: https://gregwinther.gith...</td>\n      <td>2</td>\n      <td>Transfer Americana 1: https://gregwinther.gith...</td>\n      <td>3</td>\n      <td>Transfer Americana 1: https://gregwinther.gith...</td>\n      <td>3</td>\n      <td>Transfer Americana 1: https://gregwinther.gith...</td>\n      <td>2</td>\n      <td>Transfer Americana 1: https://gregwinther.gith...</td>\n      <td>2</td>\n    </tr>\n    <tr>\n      <th>9</th>\n      <td>Transfer Americana 1: https://gregwinther.gith...</td>\n      <td>3</td>\n      <td>Americana 1: https://gregwinther.github.io/fol...</td>\n      <td>3</td>\n      <td>Transfer Americana 1: https://gregwinther.gith...</td>\n      <td>2</td>\n      <td>Transfer Americana 1: https://gregwinther.gith...</td>\n      <td>3</td>\n      <td>Transfer Americana 1: https://gregwinther.gith...</td>\n      <td>3</td>\n    </tr>\n  </tbody>\n</table>\n</div>"
     },
     "metadata": {},
     "execution_count": 22
    }
   ],
   "source": [
    "df = pd.read_csv(\"stat_raw.csv\", sep=\",\", names = colnames, skiprows=1)\n",
    "df = df[df.columns[1:-1]]\n",
    "df"
   ]
  },
  {
   "source": [
    "Reduce and clean data"
   ],
   "cell_type": "markdown",
   "metadata": {}
  },
  {
   "cell_type": "code",
   "execution_count": 27,
   "metadata": {},
   "outputs": [],
   "source": [
    "for col in songs:\n",
    "    df[col] = df[col].apply(lambda val: val[0])"
   ]
  },
  {
   "cell_type": "code",
   "execution_count": 29,
   "metadata": {},
   "outputs": [
    {
     "output_type": "execute_result",
     "data": {
      "text/plain": [
       "  song1  best1 song2  best2 song3  best3 song4  best4 song5  best5\n",
       "0     T      2     A      4     A      2     T      3     A      2\n",
       "1     T      4     A      3     T      3     T      2     A      1\n",
       "2     A      1     A      1     T      2     A      1     A      1\n",
       "3     T      5     T      2     T      5     T      3     A      2\n",
       "4     T      2     T      3     T      3     T      2     T      3\n",
       "5     A      2     T      3     T      2     A      2     T      2\n",
       "6     A      3     T      3     T      3     T      3     A      3\n",
       "7     A      3     T      2     T      2     T      2     T      2\n",
       "8     T      2     T      3     T      3     T      2     T      2\n",
       "9     T      3     A      3     T      2     T      3     T      3"
      ],
      "text/html": "<div>\n<style scoped>\n    .dataframe tbody tr th:only-of-type {\n        vertical-align: middle;\n    }\n\n    .dataframe tbody tr th {\n        vertical-align: top;\n    }\n\n    .dataframe thead th {\n        text-align: right;\n    }\n</style>\n<table border=\"1\" class=\"dataframe\">\n  <thead>\n    <tr style=\"text-align: right;\">\n      <th></th>\n      <th>song1</th>\n      <th>best1</th>\n      <th>song2</th>\n      <th>best2</th>\n      <th>song3</th>\n      <th>best3</th>\n      <th>song4</th>\n      <th>best4</th>\n      <th>song5</th>\n      <th>best5</th>\n    </tr>\n  </thead>\n  <tbody>\n    <tr>\n      <th>0</th>\n      <td>T</td>\n      <td>2</td>\n      <td>A</td>\n      <td>4</td>\n      <td>A</td>\n      <td>2</td>\n      <td>T</td>\n      <td>3</td>\n      <td>A</td>\n      <td>2</td>\n    </tr>\n    <tr>\n      <th>1</th>\n      <td>T</td>\n      <td>4</td>\n      <td>A</td>\n      <td>3</td>\n      <td>T</td>\n      <td>3</td>\n      <td>T</td>\n      <td>2</td>\n      <td>A</td>\n      <td>1</td>\n    </tr>\n    <tr>\n      <th>2</th>\n      <td>A</td>\n      <td>1</td>\n      <td>A</td>\n      <td>1</td>\n      <td>T</td>\n      <td>2</td>\n      <td>A</td>\n      <td>1</td>\n      <td>A</td>\n      <td>1</td>\n    </tr>\n    <tr>\n      <th>3</th>\n      <td>T</td>\n      <td>5</td>\n      <td>T</td>\n      <td>2</td>\n      <td>T</td>\n      <td>5</td>\n      <td>T</td>\n      <td>3</td>\n      <td>A</td>\n      <td>2</td>\n    </tr>\n    <tr>\n      <th>4</th>\n      <td>T</td>\n      <td>2</td>\n      <td>T</td>\n      <td>3</td>\n      <td>T</td>\n      <td>3</td>\n      <td>T</td>\n      <td>2</td>\n      <td>T</td>\n      <td>3</td>\n    </tr>\n    <tr>\n      <th>5</th>\n      <td>A</td>\n      <td>2</td>\n      <td>T</td>\n      <td>3</td>\n      <td>T</td>\n      <td>2</td>\n      <td>A</td>\n      <td>2</td>\n      <td>T</td>\n      <td>2</td>\n    </tr>\n    <tr>\n      <th>6</th>\n      <td>A</td>\n      <td>3</td>\n      <td>T</td>\n      <td>3</td>\n      <td>T</td>\n      <td>3</td>\n      <td>T</td>\n      <td>3</td>\n      <td>A</td>\n      <td>3</td>\n    </tr>\n    <tr>\n      <th>7</th>\n      <td>A</td>\n      <td>3</td>\n      <td>T</td>\n      <td>2</td>\n      <td>T</td>\n      <td>2</td>\n      <td>T</td>\n      <td>2</td>\n      <td>T</td>\n      <td>2</td>\n    </tr>\n    <tr>\n      <th>8</th>\n      <td>T</td>\n      <td>2</td>\n      <td>T</td>\n      <td>3</td>\n      <td>T</td>\n      <td>3</td>\n      <td>T</td>\n      <td>2</td>\n      <td>T</td>\n      <td>2</td>\n    </tr>\n    <tr>\n      <th>9</th>\n      <td>T</td>\n      <td>3</td>\n      <td>A</td>\n      <td>3</td>\n      <td>T</td>\n      <td>2</td>\n      <td>T</td>\n      <td>3</td>\n      <td>T</td>\n      <td>3</td>\n    </tr>\n  </tbody>\n</table>\n</div>"
     },
     "metadata": {},
     "execution_count": 29
    }
   ],
   "source": [
    "df"
   ]
  },
  {
   "cell_type": "code",
   "execution_count": 67,
   "metadata": {},
   "outputs": [
    {
     "output_type": "execute_result",
     "data": {
      "text/plain": [
       "best1    2.7\n",
       "best2    2.7\n",
       "best3    2.7\n",
       "best4    2.3\n",
       "best5    2.1\n",
       "dtype: float64"
      ]
     },
     "metadata": {},
     "execution_count": 67
    }
   ],
   "source": [
    "avg_rating = df.mean()\n",
    "avg_rating"
   ]
  },
  {
   "cell_type": "code",
   "execution_count": 68,
   "metadata": {},
   "outputs": [
    {
     "output_type": "execute_result",
     "data": {
      "text/plain": [
       "2.5000000000000004"
      ]
     },
     "metadata": {},
     "execution_count": 68
    }
   ],
   "source": [
    "avg_rating.mean()"
   ]
  },
  {
   "cell_type": "code",
   "execution_count": 48,
   "metadata": {},
   "outputs": [
    {
     "output_type": "execute_result",
     "data": {
      "text/plain": [
       "   songs category\n",
       "0  song1        T\n",
       "1  song1        T\n",
       "2  song1        A\n",
       "3  song1        T\n",
       "4  song1        T"
      ],
      "text/html": "<div>\n<style scoped>\n    .dataframe tbody tr th:only-of-type {\n        vertical-align: middle;\n    }\n\n    .dataframe tbody tr th {\n        vertical-align: top;\n    }\n\n    .dataframe thead th {\n        text-align: right;\n    }\n</style>\n<table border=\"1\" class=\"dataframe\">\n  <thead>\n    <tr style=\"text-align: right;\">\n      <th></th>\n      <th>songs</th>\n      <th>category</th>\n    </tr>\n  </thead>\n  <tbody>\n    <tr>\n      <th>0</th>\n      <td>song1</td>\n      <td>T</td>\n    </tr>\n    <tr>\n      <th>1</th>\n      <td>song1</td>\n      <td>T</td>\n    </tr>\n    <tr>\n      <th>2</th>\n      <td>song1</td>\n      <td>A</td>\n    </tr>\n    <tr>\n      <th>3</th>\n      <td>song1</td>\n      <td>T</td>\n    </tr>\n    <tr>\n      <th>4</th>\n      <td>song1</td>\n      <td>T</td>\n    </tr>\n  </tbody>\n</table>\n</div>"
     },
     "metadata": {},
     "execution_count": 48
    }
   ],
   "source": [
    "df_songs = pd.melt(df,value_vars=songs, var_name=\"songs\", value_name=\"category\")\n",
    "df_songs.head()"
   ]
  },
  {
   "cell_type": "code",
   "execution_count": 77,
   "metadata": {},
   "outputs": [
    {
     "output_type": "display_data",
     "data": {
      "text/plain": "<Figure size 432x288 with 1 Axes>",
      "image/svg+xml": "<?xml version=\"1.0\" encoding=\"utf-8\" standalone=\"no\"?>\n<!DOCTYPE svg PUBLIC \"-//W3C//DTD SVG 1.1//EN\"\n  \"http://www.w3.org/Graphics/SVG/1.1/DTD/svg11.dtd\">\n<!-- Created with matplotlib (https://matplotlib.org/) -->\n<svg height=\"262.19625pt\" version=\"1.1\" viewBox=\"0 0 376.240625 262.19625\" width=\"376.240625pt\" xmlns=\"http://www.w3.org/2000/svg\" xmlns:xlink=\"http://www.w3.org/1999/xlink\">\n <metadata>\n  <rdf:RDF xmlns:cc=\"http://creativecommons.org/ns#\" xmlns:dc=\"http://purl.org/dc/elements/1.1/\" xmlns:rdf=\"http://www.w3.org/1999/02/22-rdf-syntax-ns#\">\n   <cc:Work>\n    <dc:type rdf:resource=\"http://purl.org/dc/dcmitype/StillImage\"/>\n    <dc:date>2020-11-13T10:31:33.091817</dc:date>\n    <dc:format>image/svg+xml</dc:format>\n    <dc:creator>\n     <cc:Agent>\n      <dc:title>Matplotlib v3.3.2, https://matplotlib.org/</dc:title>\n     </cc:Agent>\n    </dc:creator>\n   </cc:Work>\n  </rdf:RDF>\n </metadata>\n <defs>\n  <style type=\"text/css\">*{stroke-linecap:butt;stroke-linejoin:round;}</style>\n </defs>\n <g id=\"figure_1\">\n  <g id=\"patch_1\">\n   <path d=\"M 0 262.19625 \nL 376.240625 262.19625 \nL 376.240625 0 \nL 0 0 \nz\n\" style=\"fill:none;\"/>\n  </g>\n  <g id=\"axes_1\">\n   <g id=\"patch_2\">\n    <path d=\"M 34.240625 224.64 \nL 369.040625 224.64 \nL 369.040625 7.2 \nL 34.240625 7.2 \nz\n\" style=\"fill:#ffffff;\"/>\n   </g>\n   <g id=\"patch_3\">\n    <path clip-path=\"url(#p8087c7e3df)\" d=\"M 40.936625 224.64 \nL 67.720625 224.64 \nL 67.720625 86.582857 \nL 40.936625 86.582857 \nz\n\" style=\"fill:#c6c6c6;\"/>\n   </g>\n   <g id=\"patch_4\">\n    <path clip-path=\"url(#p8087c7e3df)\" d=\"M 107.896625 224.64 \nL 134.680625 224.64 \nL 134.680625 86.582857 \nL 107.896625 86.582857 \nz\n\" style=\"fill:#c6c6c6;\"/>\n   </g>\n   <g id=\"patch_5\">\n    <path clip-path=\"url(#p8087c7e3df)\" d=\"M 174.856625 224.64 \nL 201.640625 224.64 \nL 201.640625 17.554286 \nL 174.856625 17.554286 \nz\n\" style=\"fill:#c6c6c6;\"/>\n   </g>\n   <g id=\"patch_6\">\n    <path clip-path=\"url(#p8087c7e3df)\" d=\"M 241.816625 224.64 \nL 268.600625 224.64 \nL 268.600625 40.56381 \nL 241.816625 40.56381 \nz\n\" style=\"fill:#c6c6c6;\"/>\n   </g>\n   <g id=\"patch_7\">\n    <path clip-path=\"url(#p8087c7e3df)\" d=\"M 308.776625 224.64 \nL 335.560625 224.64 \nL 335.560625 109.592381 \nL 308.776625 109.592381 \nz\n\" style=\"fill:#c6c6c6;\"/>\n   </g>\n   <g id=\"patch_8\">\n    <path clip-path=\"url(#p8087c7e3df)\" d=\"M 67.720625 224.64 \nL 94.504625 224.64 \nL 94.504625 132.601905 \nL 67.720625 132.601905 \nz\n\" style=\"fill:#686868;\"/>\n   </g>\n   <g id=\"patch_9\">\n    <path clip-path=\"url(#p8087c7e3df)\" d=\"M 134.680625 224.64 \nL 161.464625 224.64 \nL 161.464625 132.601905 \nL 134.680625 132.601905 \nz\n\" style=\"fill:#686868;\"/>\n   </g>\n   <g id=\"patch_10\">\n    <path clip-path=\"url(#p8087c7e3df)\" d=\"M 201.640625 224.64 \nL 228.424625 224.64 \nL 228.424625 201.630476 \nL 201.640625 201.630476 \nz\n\" style=\"fill:#686868;\"/>\n   </g>\n   <g id=\"patch_11\">\n    <path clip-path=\"url(#p8087c7e3df)\" d=\"M 268.600625 224.64 \nL 295.384625 224.64 \nL 295.384625 178.620952 \nL 268.600625 178.620952 \nz\n\" style=\"fill:#686868;\"/>\n   </g>\n   <g id=\"patch_12\">\n    <path clip-path=\"url(#p8087c7e3df)\" d=\"M 335.560625 224.64 \nL 362.344625 224.64 \nL 362.344625 109.592381 \nL 335.560625 109.592381 \nz\n\" style=\"fill:#686868;\"/>\n   </g>\n   <g id=\"matplotlib.axis_1\">\n    <g id=\"xtick_1\">\n     <g id=\"line2d_1\">\n      <defs>\n       <path d=\"M 0 0 \nL 0 3.5 \n\" id=\"m181918f427\" style=\"stroke:#000000;stroke-width:0.8;\"/>\n      </defs>\n      <g>\n       <use style=\"stroke:#000000;stroke-width:0.8;\" x=\"67.720625\" xlink:href=\"#m181918f427\" y=\"224.64\"/>\n      </g>\n     </g>\n     <g id=\"text_1\">\n      <!-- song1 (2.7) -->\n      <g transform=\"translate(39.090156 239.238437)scale(0.1 -0.1)\">\n       <defs>\n        <path d=\"M 44.28125 53.078125 \nL 44.28125 44.578125 \nQ 40.484375 46.53125 36.375 47.5 \nQ 32.28125 48.484375 27.875 48.484375 \nQ 21.1875 48.484375 17.84375 46.4375 \nQ 14.5 44.390625 14.5 40.28125 \nQ 14.5 37.15625 16.890625 35.375 \nQ 19.28125 33.59375 26.515625 31.984375 \nL 29.59375 31.296875 \nQ 39.15625 29.25 43.1875 25.515625 \nQ 47.21875 21.78125 47.21875 15.09375 \nQ 47.21875 7.46875 41.1875 3.015625 \nQ 35.15625 -1.421875 24.609375 -1.421875 \nQ 20.21875 -1.421875 15.453125 -0.5625 \nQ 10.6875 0.296875 5.421875 2 \nL 5.421875 11.28125 \nQ 10.40625 8.6875 15.234375 7.390625 \nQ 20.0625 6.109375 24.8125 6.109375 \nQ 31.15625 6.109375 34.5625 8.28125 \nQ 37.984375 10.453125 37.984375 14.40625 \nQ 37.984375 18.0625 35.515625 20.015625 \nQ 33.0625 21.96875 24.703125 23.78125 \nL 21.578125 24.515625 \nQ 13.234375 26.265625 9.515625 29.90625 \nQ 5.8125 33.546875 5.8125 39.890625 \nQ 5.8125 47.609375 11.28125 51.796875 \nQ 16.75 56 26.8125 56 \nQ 31.78125 56 36.171875 55.265625 \nQ 40.578125 54.546875 44.28125 53.078125 \nz\n\" id=\"DejaVuSans-115\"/>\n        <path d=\"M 30.609375 48.390625 \nQ 23.390625 48.390625 19.1875 42.75 \nQ 14.984375 37.109375 14.984375 27.296875 \nQ 14.984375 17.484375 19.15625 11.84375 \nQ 23.34375 6.203125 30.609375 6.203125 \nQ 37.796875 6.203125 41.984375 11.859375 \nQ 46.1875 17.53125 46.1875 27.296875 \nQ 46.1875 37.015625 41.984375 42.703125 \nQ 37.796875 48.390625 30.609375 48.390625 \nz\nM 30.609375 56 \nQ 42.328125 56 49.015625 48.375 \nQ 55.71875 40.765625 55.71875 27.296875 \nQ 55.71875 13.875 49.015625 6.21875 \nQ 42.328125 -1.421875 30.609375 -1.421875 \nQ 18.84375 -1.421875 12.171875 6.21875 \nQ 5.515625 13.875 5.515625 27.296875 \nQ 5.515625 40.765625 12.171875 48.375 \nQ 18.84375 56 30.609375 56 \nz\n\" id=\"DejaVuSans-111\"/>\n        <path d=\"M 54.890625 33.015625 \nL 54.890625 0 \nL 45.90625 0 \nL 45.90625 32.71875 \nQ 45.90625 40.484375 42.875 44.328125 \nQ 39.84375 48.1875 33.796875 48.1875 \nQ 26.515625 48.1875 22.3125 43.546875 \nQ 18.109375 38.921875 18.109375 30.90625 \nL 18.109375 0 \nL 9.078125 0 \nL 9.078125 54.6875 \nL 18.109375 54.6875 \nL 18.109375 46.1875 \nQ 21.34375 51.125 25.703125 53.5625 \nQ 30.078125 56 35.796875 56 \nQ 45.21875 56 50.046875 50.171875 \nQ 54.890625 44.34375 54.890625 33.015625 \nz\n\" id=\"DejaVuSans-110\"/>\n        <path d=\"M 45.40625 27.984375 \nQ 45.40625 37.75 41.375 43.109375 \nQ 37.359375 48.484375 30.078125 48.484375 \nQ 22.859375 48.484375 18.828125 43.109375 \nQ 14.796875 37.75 14.796875 27.984375 \nQ 14.796875 18.265625 18.828125 12.890625 \nQ 22.859375 7.515625 30.078125 7.515625 \nQ 37.359375 7.515625 41.375 12.890625 \nQ 45.40625 18.265625 45.40625 27.984375 \nz\nM 54.390625 6.78125 \nQ 54.390625 -7.171875 48.1875 -13.984375 \nQ 42 -20.796875 29.203125 -20.796875 \nQ 24.46875 -20.796875 20.265625 -20.09375 \nQ 16.0625 -19.390625 12.109375 -17.921875 \nL 12.109375 -9.1875 \nQ 16.0625 -11.328125 19.921875 -12.34375 \nQ 23.78125 -13.375 27.78125 -13.375 \nQ 36.625 -13.375 41.015625 -8.765625 \nQ 45.40625 -4.15625 45.40625 5.171875 \nL 45.40625 9.625 \nQ 42.625 4.78125 38.28125 2.390625 \nQ 33.9375 0 27.875 0 \nQ 17.828125 0 11.671875 7.65625 \nQ 5.515625 15.328125 5.515625 27.984375 \nQ 5.515625 40.671875 11.671875 48.328125 \nQ 17.828125 56 27.875 56 \nQ 33.9375 56 38.28125 53.609375 \nQ 42.625 51.21875 45.40625 46.390625 \nL 45.40625 54.6875 \nL 54.390625 54.6875 \nz\n\" id=\"DejaVuSans-103\"/>\n        <path d=\"M 12.40625 8.296875 \nL 28.515625 8.296875 \nL 28.515625 63.921875 \nL 10.984375 60.40625 \nL 10.984375 69.390625 \nL 28.421875 72.90625 \nL 38.28125 72.90625 \nL 38.28125 8.296875 \nL 54.390625 8.296875 \nL 54.390625 0 \nL 12.40625 0 \nz\n\" id=\"DejaVuSans-49\"/>\n        <path id=\"DejaVuSans-32\"/>\n        <path d=\"M 31 75.875 \nQ 24.46875 64.65625 21.28125 53.65625 \nQ 18.109375 42.671875 18.109375 31.390625 \nQ 18.109375 20.125 21.3125 9.0625 \nQ 24.515625 -2 31 -13.1875 \nL 23.1875 -13.1875 \nQ 15.875 -1.703125 12.234375 9.375 \nQ 8.59375 20.453125 8.59375 31.390625 \nQ 8.59375 42.28125 12.203125 53.3125 \nQ 15.828125 64.359375 23.1875 75.875 \nz\n\" id=\"DejaVuSans-40\"/>\n        <path d=\"M 19.1875 8.296875 \nL 53.609375 8.296875 \nL 53.609375 0 \nL 7.328125 0 \nL 7.328125 8.296875 \nQ 12.9375 14.109375 22.625 23.890625 \nQ 32.328125 33.6875 34.8125 36.53125 \nQ 39.546875 41.84375 41.421875 45.53125 \nQ 43.3125 49.21875 43.3125 52.78125 \nQ 43.3125 58.59375 39.234375 62.25 \nQ 35.15625 65.921875 28.609375 65.921875 \nQ 23.96875 65.921875 18.8125 64.3125 \nQ 13.671875 62.703125 7.8125 59.421875 \nL 7.8125 69.390625 \nQ 13.765625 71.78125 18.9375 73 \nQ 24.125 74.21875 28.421875 74.21875 \nQ 39.75 74.21875 46.484375 68.546875 \nQ 53.21875 62.890625 53.21875 53.421875 \nQ 53.21875 48.921875 51.53125 44.890625 \nQ 49.859375 40.875 45.40625 35.40625 \nQ 44.1875 33.984375 37.640625 27.21875 \nQ 31.109375 20.453125 19.1875 8.296875 \nz\n\" id=\"DejaVuSans-50\"/>\n        <path d=\"M 10.6875 12.40625 \nL 21 12.40625 \nL 21 0 \nL 10.6875 0 \nz\n\" id=\"DejaVuSans-46\"/>\n        <path d=\"M 8.203125 72.90625 \nL 55.078125 72.90625 \nL 55.078125 68.703125 \nL 28.609375 0 \nL 18.3125 0 \nL 43.21875 64.59375 \nL 8.203125 64.59375 \nz\n\" id=\"DejaVuSans-55\"/>\n        <path d=\"M 8.015625 75.875 \nL 15.828125 75.875 \nQ 23.140625 64.359375 26.78125 53.3125 \nQ 30.421875 42.28125 30.421875 31.390625 \nQ 30.421875 20.453125 26.78125 9.375 \nQ 23.140625 -1.703125 15.828125 -13.1875 \nL 8.015625 -13.1875 \nQ 14.5 -2 17.703125 9.0625 \nQ 20.90625 20.125 20.90625 31.390625 \nQ 20.90625 42.671875 17.703125 53.65625 \nQ 14.5 64.65625 8.015625 75.875 \nz\n\" id=\"DejaVuSans-41\"/>\n       </defs>\n       <use xlink:href=\"#DejaVuSans-115\"/>\n       <use x=\"52.099609\" xlink:href=\"#DejaVuSans-111\"/>\n       <use x=\"113.28125\" xlink:href=\"#DejaVuSans-110\"/>\n       <use x=\"176.660156\" xlink:href=\"#DejaVuSans-103\"/>\n       <use x=\"240.136719\" xlink:href=\"#DejaVuSans-49\"/>\n       <use x=\"303.759766\" xlink:href=\"#DejaVuSans-32\"/>\n       <use x=\"335.546875\" xlink:href=\"#DejaVuSans-40\"/>\n       <use x=\"374.560547\" xlink:href=\"#DejaVuSans-50\"/>\n       <use x=\"438.183594\" xlink:href=\"#DejaVuSans-46\"/>\n       <use x=\"469.970703\" xlink:href=\"#DejaVuSans-55\"/>\n       <use x=\"533.59375\" xlink:href=\"#DejaVuSans-41\"/>\n      </g>\n     </g>\n    </g>\n    <g id=\"xtick_2\">\n     <g id=\"line2d_2\">\n      <g>\n       <use style=\"stroke:#000000;stroke-width:0.8;\" x=\"134.680625\" xlink:href=\"#m181918f427\" y=\"224.64\"/>\n      </g>\n     </g>\n     <g id=\"text_2\">\n      <!-- song2 (2.7) -->\n      <g transform=\"translate(106.050156 239.238437)scale(0.1 -0.1)\">\n       <use xlink:href=\"#DejaVuSans-115\"/>\n       <use x=\"52.099609\" xlink:href=\"#DejaVuSans-111\"/>\n       <use x=\"113.28125\" xlink:href=\"#DejaVuSans-110\"/>\n       <use x=\"176.660156\" xlink:href=\"#DejaVuSans-103\"/>\n       <use x=\"240.136719\" xlink:href=\"#DejaVuSans-50\"/>\n       <use x=\"303.759766\" xlink:href=\"#DejaVuSans-32\"/>\n       <use x=\"335.546875\" xlink:href=\"#DejaVuSans-40\"/>\n       <use x=\"374.560547\" xlink:href=\"#DejaVuSans-50\"/>\n       <use x=\"438.183594\" xlink:href=\"#DejaVuSans-46\"/>\n       <use x=\"469.970703\" xlink:href=\"#DejaVuSans-55\"/>\n       <use x=\"533.59375\" xlink:href=\"#DejaVuSans-41\"/>\n      </g>\n     </g>\n    </g>\n    <g id=\"xtick_3\">\n     <g id=\"line2d_3\">\n      <g>\n       <use style=\"stroke:#000000;stroke-width:0.8;\" x=\"201.640625\" xlink:href=\"#m181918f427\" y=\"224.64\"/>\n      </g>\n     </g>\n     <g id=\"text_3\">\n      <!-- song3 (2.7) -->\n      <g transform=\"translate(173.010156 239.238437)scale(0.1 -0.1)\">\n       <defs>\n        <path d=\"M 40.578125 39.3125 \nQ 47.65625 37.796875 51.625 33 \nQ 55.609375 28.21875 55.609375 21.1875 \nQ 55.609375 10.40625 48.1875 4.484375 \nQ 40.765625 -1.421875 27.09375 -1.421875 \nQ 22.515625 -1.421875 17.65625 -0.515625 \nQ 12.796875 0.390625 7.625 2.203125 \nL 7.625 11.71875 \nQ 11.71875 9.328125 16.59375 8.109375 \nQ 21.484375 6.890625 26.8125 6.890625 \nQ 36.078125 6.890625 40.9375 10.546875 \nQ 45.796875 14.203125 45.796875 21.1875 \nQ 45.796875 27.640625 41.28125 31.265625 \nQ 36.765625 34.90625 28.71875 34.90625 \nL 20.21875 34.90625 \nL 20.21875 43.015625 \nL 29.109375 43.015625 \nQ 36.375 43.015625 40.234375 45.921875 \nQ 44.09375 48.828125 44.09375 54.296875 \nQ 44.09375 59.90625 40.109375 62.90625 \nQ 36.140625 65.921875 28.71875 65.921875 \nQ 24.65625 65.921875 20.015625 65.03125 \nQ 15.375 64.15625 9.8125 62.3125 \nL 9.8125 71.09375 \nQ 15.4375 72.65625 20.34375 73.4375 \nQ 25.25 74.21875 29.59375 74.21875 \nQ 40.828125 74.21875 47.359375 69.109375 \nQ 53.90625 64.015625 53.90625 55.328125 \nQ 53.90625 49.265625 50.4375 45.09375 \nQ 46.96875 40.921875 40.578125 39.3125 \nz\n\" id=\"DejaVuSans-51\"/>\n       </defs>\n       <use xlink:href=\"#DejaVuSans-115\"/>\n       <use x=\"52.099609\" xlink:href=\"#DejaVuSans-111\"/>\n       <use x=\"113.28125\" xlink:href=\"#DejaVuSans-110\"/>\n       <use x=\"176.660156\" xlink:href=\"#DejaVuSans-103\"/>\n       <use x=\"240.136719\" xlink:href=\"#DejaVuSans-51\"/>\n       <use x=\"303.759766\" xlink:href=\"#DejaVuSans-32\"/>\n       <use x=\"335.546875\" xlink:href=\"#DejaVuSans-40\"/>\n       <use x=\"374.560547\" xlink:href=\"#DejaVuSans-50\"/>\n       <use x=\"438.183594\" xlink:href=\"#DejaVuSans-46\"/>\n       <use x=\"469.970703\" xlink:href=\"#DejaVuSans-55\"/>\n       <use x=\"533.59375\" xlink:href=\"#DejaVuSans-41\"/>\n      </g>\n     </g>\n    </g>\n    <g id=\"xtick_4\">\n     <g id=\"line2d_4\">\n      <g>\n       <use style=\"stroke:#000000;stroke-width:0.8;\" x=\"268.600625\" xlink:href=\"#m181918f427\" y=\"224.64\"/>\n      </g>\n     </g>\n     <g id=\"text_4\">\n      <!-- song4 (2.3) -->\n      <g transform=\"translate(239.970156 239.238437)scale(0.1 -0.1)\">\n       <defs>\n        <path d=\"M 37.796875 64.3125 \nL 12.890625 25.390625 \nL 37.796875 25.390625 \nz\nM 35.203125 72.90625 \nL 47.609375 72.90625 \nL 47.609375 25.390625 \nL 58.015625 25.390625 \nL 58.015625 17.1875 \nL 47.609375 17.1875 \nL 47.609375 0 \nL 37.796875 0 \nL 37.796875 17.1875 \nL 4.890625 17.1875 \nL 4.890625 26.703125 \nz\n\" id=\"DejaVuSans-52\"/>\n       </defs>\n       <use xlink:href=\"#DejaVuSans-115\"/>\n       <use x=\"52.099609\" xlink:href=\"#DejaVuSans-111\"/>\n       <use x=\"113.28125\" xlink:href=\"#DejaVuSans-110\"/>\n       <use x=\"176.660156\" xlink:href=\"#DejaVuSans-103\"/>\n       <use x=\"240.136719\" xlink:href=\"#DejaVuSans-52\"/>\n       <use x=\"303.759766\" xlink:href=\"#DejaVuSans-32\"/>\n       <use x=\"335.546875\" xlink:href=\"#DejaVuSans-40\"/>\n       <use x=\"374.560547\" xlink:href=\"#DejaVuSans-50\"/>\n       <use x=\"438.183594\" xlink:href=\"#DejaVuSans-46\"/>\n       <use x=\"469.970703\" xlink:href=\"#DejaVuSans-51\"/>\n       <use x=\"533.59375\" xlink:href=\"#DejaVuSans-41\"/>\n      </g>\n     </g>\n    </g>\n    <g id=\"xtick_5\">\n     <g id=\"line2d_5\">\n      <g>\n       <use style=\"stroke:#000000;stroke-width:0.8;\" x=\"335.560625\" xlink:href=\"#m181918f427\" y=\"224.64\"/>\n      </g>\n     </g>\n     <g id=\"text_5\">\n      <!-- song5 (2.1) -->\n      <g transform=\"translate(306.930156 239.238437)scale(0.1 -0.1)\">\n       <defs>\n        <path d=\"M 10.796875 72.90625 \nL 49.515625 72.90625 \nL 49.515625 64.59375 \nL 19.828125 64.59375 \nL 19.828125 46.734375 \nQ 21.96875 47.46875 24.109375 47.828125 \nQ 26.265625 48.1875 28.421875 48.1875 \nQ 40.625 48.1875 47.75 41.5 \nQ 54.890625 34.8125 54.890625 23.390625 \nQ 54.890625 11.625 47.5625 5.09375 \nQ 40.234375 -1.421875 26.90625 -1.421875 \nQ 22.3125 -1.421875 17.546875 -0.640625 \nQ 12.796875 0.140625 7.71875 1.703125 \nL 7.71875 11.625 \nQ 12.109375 9.234375 16.796875 8.0625 \nQ 21.484375 6.890625 26.703125 6.890625 \nQ 35.15625 6.890625 40.078125 11.328125 \nQ 45.015625 15.765625 45.015625 23.390625 \nQ 45.015625 31 40.078125 35.4375 \nQ 35.15625 39.890625 26.703125 39.890625 \nQ 22.75 39.890625 18.8125 39.015625 \nQ 14.890625 38.140625 10.796875 36.28125 \nz\n\" id=\"DejaVuSans-53\"/>\n       </defs>\n       <use xlink:href=\"#DejaVuSans-115\"/>\n       <use x=\"52.099609\" xlink:href=\"#DejaVuSans-111\"/>\n       <use x=\"113.28125\" xlink:href=\"#DejaVuSans-110\"/>\n       <use x=\"176.660156\" xlink:href=\"#DejaVuSans-103\"/>\n       <use x=\"240.136719\" xlink:href=\"#DejaVuSans-53\"/>\n       <use x=\"303.759766\" xlink:href=\"#DejaVuSans-32\"/>\n       <use x=\"335.546875\" xlink:href=\"#DejaVuSans-40\"/>\n       <use x=\"374.560547\" xlink:href=\"#DejaVuSans-50\"/>\n       <use x=\"438.183594\" xlink:href=\"#DejaVuSans-46\"/>\n       <use x=\"469.970703\" xlink:href=\"#DejaVuSans-49\"/>\n       <use x=\"533.59375\" xlink:href=\"#DejaVuSans-41\"/>\n      </g>\n     </g>\n    </g>\n    <g id=\"text_6\">\n     <!-- songs -->\n     <g transform=\"translate(187.028906 252.916562)scale(0.1 -0.1)\">\n      <use xlink:href=\"#DejaVuSans-115\"/>\n      <use x=\"52.099609\" xlink:href=\"#DejaVuSans-111\"/>\n      <use x=\"113.28125\" xlink:href=\"#DejaVuSans-110\"/>\n      <use x=\"176.660156\" xlink:href=\"#DejaVuSans-103\"/>\n      <use x=\"240.136719\" xlink:href=\"#DejaVuSans-115\"/>\n     </g>\n    </g>\n   </g>\n   <g id=\"matplotlib.axis_2\">\n    <g id=\"ytick_1\">\n     <g id=\"line2d_6\">\n      <defs>\n       <path d=\"M 0 0 \nL -3.5 0 \n\" id=\"mf2d7c14e11\" style=\"stroke:#000000;stroke-width:0.8;\"/>\n      </defs>\n      <g>\n       <use style=\"stroke:#000000;stroke-width:0.8;\" x=\"34.240625\" xlink:href=\"#mf2d7c14e11\" y=\"224.64\"/>\n      </g>\n     </g>\n     <g id=\"text_7\">\n      <!-- 0 -->\n      <g transform=\"translate(20.878125 228.439219)scale(0.1 -0.1)\">\n       <defs>\n        <path d=\"M 31.78125 66.40625 \nQ 24.171875 66.40625 20.328125 58.90625 \nQ 16.5 51.421875 16.5 36.375 \nQ 16.5 21.390625 20.328125 13.890625 \nQ 24.171875 6.390625 31.78125 6.390625 \nQ 39.453125 6.390625 43.28125 13.890625 \nQ 47.125 21.390625 47.125 36.375 \nQ 47.125 51.421875 43.28125 58.90625 \nQ 39.453125 66.40625 31.78125 66.40625 \nz\nM 31.78125 74.21875 \nQ 44.046875 74.21875 50.515625 64.515625 \nQ 56.984375 54.828125 56.984375 36.375 \nQ 56.984375 17.96875 50.515625 8.265625 \nQ 44.046875 -1.421875 31.78125 -1.421875 \nQ 19.53125 -1.421875 13.0625 8.265625 \nQ 6.59375 17.96875 6.59375 36.375 \nQ 6.59375 54.828125 13.0625 64.515625 \nQ 19.53125 74.21875 31.78125 74.21875 \nz\n\" id=\"DejaVuSans-48\"/>\n       </defs>\n       <use xlink:href=\"#DejaVuSans-48\"/>\n      </g>\n     </g>\n    </g>\n    <g id=\"ytick_2\">\n     <g id=\"line2d_7\">\n      <g>\n       <use style=\"stroke:#000000;stroke-width:0.8;\" x=\"34.240625\" xlink:href=\"#mf2d7c14e11\" y=\"178.620952\"/>\n      </g>\n     </g>\n     <g id=\"text_8\">\n      <!-- 2 -->\n      <g transform=\"translate(20.878125 182.420171)scale(0.1 -0.1)\">\n       <use xlink:href=\"#DejaVuSans-50\"/>\n      </g>\n     </g>\n    </g>\n    <g id=\"ytick_3\">\n     <g id=\"line2d_8\">\n      <g>\n       <use style=\"stroke:#000000;stroke-width:0.8;\" x=\"34.240625\" xlink:href=\"#mf2d7c14e11\" y=\"132.601905\"/>\n      </g>\n     </g>\n     <g id=\"text_9\">\n      <!-- 4 -->\n      <g transform=\"translate(20.878125 136.401124)scale(0.1 -0.1)\">\n       <use xlink:href=\"#DejaVuSans-52\"/>\n      </g>\n     </g>\n    </g>\n    <g id=\"ytick_4\">\n     <g id=\"line2d_9\">\n      <g>\n       <use style=\"stroke:#000000;stroke-width:0.8;\" x=\"34.240625\" xlink:href=\"#mf2d7c14e11\" y=\"86.582857\"/>\n      </g>\n     </g>\n     <g id=\"text_10\">\n      <!-- 6 -->\n      <g transform=\"translate(20.878125 90.382076)scale(0.1 -0.1)\">\n       <defs>\n        <path d=\"M 33.015625 40.375 \nQ 26.375 40.375 22.484375 35.828125 \nQ 18.609375 31.296875 18.609375 23.390625 \nQ 18.609375 15.53125 22.484375 10.953125 \nQ 26.375 6.390625 33.015625 6.390625 \nQ 39.65625 6.390625 43.53125 10.953125 \nQ 47.40625 15.53125 47.40625 23.390625 \nQ 47.40625 31.296875 43.53125 35.828125 \nQ 39.65625 40.375 33.015625 40.375 \nz\nM 52.59375 71.296875 \nL 52.59375 62.3125 \nQ 48.875 64.0625 45.09375 64.984375 \nQ 41.3125 65.921875 37.59375 65.921875 \nQ 27.828125 65.921875 22.671875 59.328125 \nQ 17.53125 52.734375 16.796875 39.40625 \nQ 19.671875 43.65625 24.015625 45.921875 \nQ 28.375 48.1875 33.59375 48.1875 \nQ 44.578125 48.1875 50.953125 41.515625 \nQ 57.328125 34.859375 57.328125 23.390625 \nQ 57.328125 12.15625 50.6875 5.359375 \nQ 44.046875 -1.421875 33.015625 -1.421875 \nQ 20.359375 -1.421875 13.671875 8.265625 \nQ 6.984375 17.96875 6.984375 36.375 \nQ 6.984375 53.65625 15.1875 63.9375 \nQ 23.390625 74.21875 37.203125 74.21875 \nQ 40.921875 74.21875 44.703125 73.484375 \nQ 48.484375 72.75 52.59375 71.296875 \nz\n\" id=\"DejaVuSans-54\"/>\n       </defs>\n       <use xlink:href=\"#DejaVuSans-54\"/>\n      </g>\n     </g>\n    </g>\n    <g id=\"ytick_5\">\n     <g id=\"line2d_10\">\n      <g>\n       <use style=\"stroke:#000000;stroke-width:0.8;\" x=\"34.240625\" xlink:href=\"#mf2d7c14e11\" y=\"40.56381\"/>\n      </g>\n     </g>\n     <g id=\"text_11\">\n      <!-- 8 -->\n      <g transform=\"translate(20.878125 44.363028)scale(0.1 -0.1)\">\n       <defs>\n        <path d=\"M 31.78125 34.625 \nQ 24.75 34.625 20.71875 30.859375 \nQ 16.703125 27.09375 16.703125 20.515625 \nQ 16.703125 13.921875 20.71875 10.15625 \nQ 24.75 6.390625 31.78125 6.390625 \nQ 38.8125 6.390625 42.859375 10.171875 \nQ 46.921875 13.96875 46.921875 20.515625 \nQ 46.921875 27.09375 42.890625 30.859375 \nQ 38.875 34.625 31.78125 34.625 \nz\nM 21.921875 38.8125 \nQ 15.578125 40.375 12.03125 44.71875 \nQ 8.5 49.078125 8.5 55.328125 \nQ 8.5 64.0625 14.71875 69.140625 \nQ 20.953125 74.21875 31.78125 74.21875 \nQ 42.671875 74.21875 48.875 69.140625 \nQ 55.078125 64.0625 55.078125 55.328125 \nQ 55.078125 49.078125 51.53125 44.71875 \nQ 48 40.375 41.703125 38.8125 \nQ 48.828125 37.15625 52.796875 32.3125 \nQ 56.78125 27.484375 56.78125 20.515625 \nQ 56.78125 9.90625 50.3125 4.234375 \nQ 43.84375 -1.421875 31.78125 -1.421875 \nQ 19.734375 -1.421875 13.25 4.234375 \nQ 6.78125 9.90625 6.78125 20.515625 \nQ 6.78125 27.484375 10.78125 32.3125 \nQ 14.796875 37.15625 21.921875 38.8125 \nz\nM 18.3125 54.390625 \nQ 18.3125 48.734375 21.84375 45.5625 \nQ 25.390625 42.390625 31.78125 42.390625 \nQ 38.140625 42.390625 41.71875 45.5625 \nQ 45.3125 48.734375 45.3125 54.390625 \nQ 45.3125 60.0625 41.71875 63.234375 \nQ 38.140625 66.40625 31.78125 66.40625 \nQ 25.390625 66.40625 21.84375 63.234375 \nQ 18.3125 60.0625 18.3125 54.390625 \nz\n\" id=\"DejaVuSans-56\"/>\n       </defs>\n       <use xlink:href=\"#DejaVuSans-56\"/>\n      </g>\n     </g>\n    </g>\n    <g id=\"text_12\">\n     <!-- count -->\n     <g transform=\"translate(14.798437 130.02625)rotate(-90)scale(0.1 -0.1)\">\n      <defs>\n       <path d=\"M 48.78125 52.59375 \nL 48.78125 44.1875 \nQ 44.96875 46.296875 41.140625 47.34375 \nQ 37.3125 48.390625 33.40625 48.390625 \nQ 24.65625 48.390625 19.8125 42.84375 \nQ 14.984375 37.3125 14.984375 27.296875 \nQ 14.984375 17.28125 19.8125 11.734375 \nQ 24.65625 6.203125 33.40625 6.203125 \nQ 37.3125 6.203125 41.140625 7.25 \nQ 44.96875 8.296875 48.78125 10.40625 \nL 48.78125 2.09375 \nQ 45.015625 0.34375 40.984375 -0.53125 \nQ 36.96875 -1.421875 32.421875 -1.421875 \nQ 20.0625 -1.421875 12.78125 6.34375 \nQ 5.515625 14.109375 5.515625 27.296875 \nQ 5.515625 40.671875 12.859375 48.328125 \nQ 20.21875 56 33.015625 56 \nQ 37.15625 56 41.109375 55.140625 \nQ 45.0625 54.296875 48.78125 52.59375 \nz\n\" id=\"DejaVuSans-99\"/>\n       <path d=\"M 8.5 21.578125 \nL 8.5 54.6875 \nL 17.484375 54.6875 \nL 17.484375 21.921875 \nQ 17.484375 14.15625 20.5 10.265625 \nQ 23.53125 6.390625 29.59375 6.390625 \nQ 36.859375 6.390625 41.078125 11.03125 \nQ 45.3125 15.671875 45.3125 23.6875 \nL 45.3125 54.6875 \nL 54.296875 54.6875 \nL 54.296875 0 \nL 45.3125 0 \nL 45.3125 8.40625 \nQ 42.046875 3.421875 37.71875 1 \nQ 33.40625 -1.421875 27.6875 -1.421875 \nQ 18.265625 -1.421875 13.375 4.4375 \nQ 8.5 10.296875 8.5 21.578125 \nz\nM 31.109375 56 \nz\n\" id=\"DejaVuSans-117\"/>\n       <path d=\"M 18.3125 70.21875 \nL 18.3125 54.6875 \nL 36.8125 54.6875 \nL 36.8125 47.703125 \nL 18.3125 47.703125 \nL 18.3125 18.015625 \nQ 18.3125 11.328125 20.140625 9.421875 \nQ 21.96875 7.515625 27.59375 7.515625 \nL 36.8125 7.515625 \nL 36.8125 0 \nL 27.59375 0 \nQ 17.1875 0 13.234375 3.875 \nQ 9.28125 7.765625 9.28125 18.015625 \nL 9.28125 47.703125 \nL 2.6875 47.703125 \nL 2.6875 54.6875 \nL 9.28125 54.6875 \nL 9.28125 70.21875 \nz\n\" id=\"DejaVuSans-116\"/>\n      </defs>\n      <use xlink:href=\"#DejaVuSans-99\"/>\n      <use x=\"54.980469\" xlink:href=\"#DejaVuSans-111\"/>\n      <use x=\"116.162109\" xlink:href=\"#DejaVuSans-117\"/>\n      <use x=\"179.541016\" xlink:href=\"#DejaVuSans-110\"/>\n      <use x=\"242.919922\" xlink:href=\"#DejaVuSans-116\"/>\n     </g>\n    </g>\n   </g>\n   <g id=\"patch_13\">\n    <path d=\"M 34.240625 224.64 \nL 34.240625 7.2 \n\" style=\"fill:none;stroke:#000000;stroke-linecap:square;stroke-linejoin:miter;stroke-width:0.8;\"/>\n   </g>\n   <g id=\"patch_14\">\n    <path d=\"M 369.040625 224.64 \nL 369.040625 7.2 \n\" style=\"fill:none;stroke:#000000;stroke-linecap:square;stroke-linejoin:miter;stroke-width:0.8;\"/>\n   </g>\n   <g id=\"patch_15\">\n    <path d=\"M 34.240625 224.64 \nL 369.040625 224.64 \n\" style=\"fill:none;stroke:#000000;stroke-linecap:square;stroke-linejoin:miter;stroke-width:0.8;\"/>\n   </g>\n   <g id=\"patch_16\">\n    <path d=\"M 34.240625 7.2 \nL 369.040625 7.2 \n\" style=\"fill:none;stroke:#000000;stroke-linecap:square;stroke-linejoin:miter;stroke-width:0.8;\"/>\n   </g>\n   <g id=\"legend_1\">\n    <g id=\"patch_17\">\n     <path d=\"M 313.84375 59.234375 \nL 362.040625 59.234375 \nQ 364.040625 59.234375 364.040625 57.234375 \nL 364.040625 14.2 \nQ 364.040625 12.2 362.040625 12.2 \nL 313.84375 12.2 \nQ 311.84375 12.2 311.84375 14.2 \nL 311.84375 57.234375 \nQ 311.84375 59.234375 313.84375 59.234375 \nz\n\" style=\"fill:#ffffff;opacity:0.8;stroke:#cccccc;stroke-linejoin:miter;\"/>\n    </g>\n    <g id=\"text_13\">\n     <!-- category -->\n     <g transform=\"translate(315.84375 23.798437)scale(0.1 -0.1)\">\n      <defs>\n       <path d=\"M 34.28125 27.484375 \nQ 23.390625 27.484375 19.1875 25 \nQ 14.984375 22.515625 14.984375 16.5 \nQ 14.984375 11.71875 18.140625 8.90625 \nQ 21.296875 6.109375 26.703125 6.109375 \nQ 34.1875 6.109375 38.703125 11.40625 \nQ 43.21875 16.703125 43.21875 25.484375 \nL 43.21875 27.484375 \nz\nM 52.203125 31.203125 \nL 52.203125 0 \nL 43.21875 0 \nL 43.21875 8.296875 \nQ 40.140625 3.328125 35.546875 0.953125 \nQ 30.953125 -1.421875 24.3125 -1.421875 \nQ 15.921875 -1.421875 10.953125 3.296875 \nQ 6 8.015625 6 15.921875 \nQ 6 25.140625 12.171875 29.828125 \nQ 18.359375 34.515625 30.609375 34.515625 \nL 43.21875 34.515625 \nL 43.21875 35.40625 \nQ 43.21875 41.609375 39.140625 45 \nQ 35.0625 48.390625 27.6875 48.390625 \nQ 23 48.390625 18.546875 47.265625 \nQ 14.109375 46.140625 10.015625 43.890625 \nL 10.015625 52.203125 \nQ 14.9375 54.109375 19.578125 55.046875 \nQ 24.21875 56 28.609375 56 \nQ 40.484375 56 46.34375 49.84375 \nQ 52.203125 43.703125 52.203125 31.203125 \nz\n\" id=\"DejaVuSans-97\"/>\n       <path d=\"M 56.203125 29.59375 \nL 56.203125 25.203125 \nL 14.890625 25.203125 \nQ 15.484375 15.921875 20.484375 11.0625 \nQ 25.484375 6.203125 34.421875 6.203125 \nQ 39.59375 6.203125 44.453125 7.46875 \nQ 49.3125 8.734375 54.109375 11.28125 \nL 54.109375 2.78125 \nQ 49.265625 0.734375 44.1875 -0.34375 \nQ 39.109375 -1.421875 33.890625 -1.421875 \nQ 20.796875 -1.421875 13.15625 6.1875 \nQ 5.515625 13.8125 5.515625 26.8125 \nQ 5.515625 40.234375 12.765625 48.109375 \nQ 20.015625 56 32.328125 56 \nQ 43.359375 56 49.78125 48.890625 \nQ 56.203125 41.796875 56.203125 29.59375 \nz\nM 47.21875 32.234375 \nQ 47.125 39.59375 43.09375 43.984375 \nQ 39.0625 48.390625 32.421875 48.390625 \nQ 24.90625 48.390625 20.390625 44.140625 \nQ 15.875 39.890625 15.1875 32.171875 \nz\n\" id=\"DejaVuSans-101\"/>\n       <path d=\"M 41.109375 46.296875 \nQ 39.59375 47.171875 37.8125 47.578125 \nQ 36.03125 48 33.890625 48 \nQ 26.265625 48 22.1875 43.046875 \nQ 18.109375 38.09375 18.109375 28.8125 \nL 18.109375 0 \nL 9.078125 0 \nL 9.078125 54.6875 \nL 18.109375 54.6875 \nL 18.109375 46.1875 \nQ 20.953125 51.171875 25.484375 53.578125 \nQ 30.03125 56 36.53125 56 \nQ 37.453125 56 38.578125 55.875 \nQ 39.703125 55.765625 41.0625 55.515625 \nz\n\" id=\"DejaVuSans-114\"/>\n       <path d=\"M 32.171875 -5.078125 \nQ 28.375 -14.84375 24.75 -17.8125 \nQ 21.140625 -20.796875 15.09375 -20.796875 \nL 7.90625 -20.796875 \nL 7.90625 -13.28125 \nL 13.1875 -13.28125 \nQ 16.890625 -13.28125 18.9375 -11.515625 \nQ 21 -9.765625 23.484375 -3.21875 \nL 25.09375 0.875 \nL 2.984375 54.6875 \nL 12.5 54.6875 \nL 29.59375 11.921875 \nL 46.6875 54.6875 \nL 56.203125 54.6875 \nz\n\" id=\"DejaVuSans-121\"/>\n      </defs>\n      <use xlink:href=\"#DejaVuSans-99\"/>\n      <use x=\"54.980469\" xlink:href=\"#DejaVuSans-97\"/>\n      <use x=\"116.259766\" xlink:href=\"#DejaVuSans-116\"/>\n      <use x=\"155.46875\" xlink:href=\"#DejaVuSans-101\"/>\n      <use x=\"216.992188\" xlink:href=\"#DejaVuSans-103\"/>\n      <use x=\"280.46875\" xlink:href=\"#DejaVuSans-111\"/>\n      <use x=\"341.650391\" xlink:href=\"#DejaVuSans-114\"/>\n      <use x=\"382.763672\" xlink:href=\"#DejaVuSans-121\"/>\n     </g>\n    </g>\n    <g id=\"patch_18\">\n     <path d=\"M 320.521875 38.476562 \nL 340.521875 38.476562 \nL 340.521875 31.476562 \nL 320.521875 31.476562 \nz\n\" style=\"fill:#c6c6c6;\"/>\n    </g>\n    <g id=\"text_14\">\n     <!-- T -->\n     <g transform=\"translate(348.521875 38.476562)scale(0.1 -0.1)\">\n      <defs>\n       <path d=\"M -0.296875 72.90625 \nL 61.375 72.90625 \nL 61.375 64.59375 \nL 35.5 64.59375 \nL 35.5 0 \nL 25.59375 0 \nL 25.59375 64.59375 \nL -0.296875 64.59375 \nz\n\" id=\"DejaVuSans-84\"/>\n      </defs>\n      <use xlink:href=\"#DejaVuSans-84\"/>\n     </g>\n    </g>\n    <g id=\"patch_19\">\n     <path d=\"M 320.521875 53.154687 \nL 340.521875 53.154687 \nL 340.521875 46.154687 \nL 320.521875 46.154687 \nz\n\" style=\"fill:#686868;\"/>\n    </g>\n    <g id=\"text_15\">\n     <!-- A -->\n     <g transform=\"translate(348.521875 53.154687)scale(0.1 -0.1)\">\n      <defs>\n       <path d=\"M 34.1875 63.1875 \nL 20.796875 26.90625 \nL 47.609375 26.90625 \nz\nM 28.609375 72.90625 \nL 39.796875 72.90625 \nL 67.578125 0 \nL 57.328125 0 \nL 50.6875 18.703125 \nL 17.828125 18.703125 \nL 11.1875 0 \nL 0.78125 0 \nz\n\" id=\"DejaVuSans-65\"/>\n      </defs>\n      <use xlink:href=\"#DejaVuSans-65\"/>\n     </g>\n    </g>\n   </g>\n  </g>\n </g>\n <defs>\n  <clipPath id=\"p8087c7e3df\">\n   <rect height=\"217.44\" width=\"334.8\" x=\"34.240625\" y=\"7.2\"/>\n  </clipPath>\n </defs>\n</svg>\n",
      "image/png": "[encoded data removed]"
     },
     "metadata": {
      "needs_background": "light"
     }
    }
   ],
   "source": [
    "g = sns.countplot(\"songs\",data=df_songs, hue=\"category\", palette=(\"Greys\"))\n",
    "xlabels = [f\"{song} ({best})\" for song,best in zip(songs,avg_rating)]\n",
    "g.set_xticklabels(xlabels)\n",
    "plt.savefig(\"songs_category.png\")\n",
    "None"
   ]
  },
  {
   "cell_type": "code",
   "execution_count": 64,
   "metadata": {},
   "outputs": [
    {
     "output_type": "stream",
     "name": "stdout",
     "text": [
      "Fraction of choice Transfer vs Americana:  0.68\n"
     ]
    }
   ],
   "source": [
    "frac = df_songs[\"category\"].value_counts()\n",
    "print(\"Fraction of choice Transfer vs Americana: \",frac[0]/frac.sum())"
   ]
  }
 ]
}